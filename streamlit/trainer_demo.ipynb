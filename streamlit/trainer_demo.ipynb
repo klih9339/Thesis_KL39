{
  "cells": [
    {
      "cell_type": "raw",
      "metadata": {
        "vscode": {
          "languageId": "raw"
        }
      },
      "source": [
        "# Knowledge Map Trainer Demo\n",
        "\n",
        "Tài liệu demo cho hệ thống trực quan hóa bản đồ kiến thức và đề xuất kế hoạch ôn tập dựa trên lý thuyết Active Recall.\n"
      ]
    },
    {
      "cell_type": "code",
      "execution_count": null,
      "metadata": {},
      "outputs": [],
      "source": [
        "# Import các thư viện cần thiết\n",
        "import os\n",
        "import torch\n",
        "import matplotlib.pyplot as plt\n",
        "import numpy as np\n",
        "import pandas as pd\n",
        "import seaborn as sns\n",
        "\n",
        "# Thiết lập hiển thị cho matplotlib\n",
        "%matplotlib inline\n",
        "plt.rcParams['figure.figsize'] = (12, 8)\n",
        "\n",
        "# Thiết lập hiển thị cho pandas\n",
        "pd.set_option('display.max_columns', None)\n",
        "pd.set_option('display.max_rows', 50)\n",
        "pd.set_option('display.width', 1000)\n",
        "\n",
        "print(\"Đã thiết lập môi trường\")\n"
      ]
    },
    {
      "cell_type": "raw",
      "metadata": {
        "vscode": {
          "languageId": "raw"
        }
      },
      "source": [
        "## 1. Khởi tạo hệ thống Knowledge Map Trainer\n",
        "\n",
        "Đầu tiên, chúng ta sẽ khởi tạo hệ thống Knowledge Map Trainer bằng cách sử dụng dữ liệu từ folder `input/raw` và mô hình đã huấn luyện.\n"
      ]
    },
    {
      "cell_type": "code",
      "execution_count": null,
      "metadata": {},
      "outputs": [],
      "source": [
        "# Import các module từ trainer\n",
        "from trainer.main import init_trainer, prepare_for_student\n",
        "\n",
        "# Sử dụng CUDA nếu có\n",
        "device = torch.device(\"cuda\" if torch.cuda.is_available() else \"cpu\")\n",
        "print(f\"Sử dụng thiết bị: {device}\")\n",
        "\n",
        "# Tìm kiếm model\n",
        "model_path = \"dcrkt_model_fold_0.pt\"\n",
        "if not os.path.exists(model_path):\n",
        "    print(f\"Không tìm thấy file mô hình: {model_path}\")\n",
        "    print(\"Tìm kiếm mô hình trong thư mục checkpoints...\")\n",
        "    model_path = \"checkpoints/dcrkt_model_fold_0.pt\"\n",
        "    if not os.path.exists(model_path):\n",
        "        print(f\"Không tìm thấy file mô hình: {model_path}\")\n",
        "        model_path = None\n",
        "\n",
        "# Khởi tạo hệ thống\n",
        "print(\"Đang khởi tạo hệ thống Knowledge Map Trainer...\")\n",
        "model, dashboard, dfs, mappings = init_trainer(model_path, device=device)\n",
        "print(\"Đã khởi tạo hoàn tất!\")\n"
      ]
    },
    {
      "cell_type": "raw",
      "metadata": {
        "vscode": {
          "languageId": "raw"
        }
      },
      "source": [
        "## 2. Khám phá dữ liệu\n",
        "\n",
        "Sau khi khởi tạo hệ thống, chúng ta sẽ khám phá dữ liệu và xem thông tin về học sinh và câu hỏi.\n"
      ]
    },
    {
      "cell_type": "code",
      "execution_count": null,
      "metadata": {},
      "outputs": [],
      "source": [
        "# Xem thông tin về học sinh\n",
        "student_ids = list(mappings[\"user2idx\"].keys())\n",
        "print(f\"Số lượng học sinh: {len(student_ids)}\")\n",
        "print(f\"Ví dụ ID học sinh: {student_ids[:5]}\")\n",
        "\n",
        "# Xem thông tin về câu hỏi\n",
        "question_ids = list(mappings[\"question2idx\"].keys())\n",
        "print(f\"\\nSố lượng câu hỏi: {len(question_ids)}\")\n",
        "print(f\"Ví dụ ID câu hỏi: {question_ids[:5]}\")\n",
        "\n",
        "# Xem thông tin về concept\n",
        "concept_ids = list(mappings[\"kc2idx\"].keys())\n",
        "print(f\"\\nSố lượng concept: {len(concept_ids)}\")\n",
        "print(f\"Ví dụ ID concept: {concept_ids[:5]}\")\n",
        "\n",
        "# Hiển thị vài dòng dữ liệu tương tác\n",
        "print(\"\\nMẫu dữ liệu tương tác:\")\n",
        "display(dfs[\"interaction_df\"].head())\n"
      ]
    },
    {
      "cell_type": "raw",
      "metadata": {
        "vscode": {
          "languageId": "raw"
        }
      },
      "source": [
        "## 3. Trực quan hóa bản đồ kiến thức\n",
        "\n",
        "Chúng ta sẽ chọn một học sinh để trực quan hóa bản đồ kiến thức. Đầu tiên, cần chuẩn bị dữ liệu cho học sinh bằng cách tải lịch sử học tập của họ.\n"
      ]
    },
    {
      "cell_type": "code",
      "execution_count": null,
      "metadata": {},
      "outputs": [],
      "source": [
        "# Chọn một học sinh để trực quan hóa\n",
        "student_id = student_ids[0]  # Chọn học sinh đầu tiên trong danh sách\n",
        "print(f\"Đã chọn học sinh ID: {student_id}\")\n",
        "\n",
        "# Chuẩn bị mô hình cho học sinh\n",
        "print(f\"Đang tải dữ liệu lịch sử cho học sinh {student_id}...\")\n",
        "model = prepare_for_student(model, student_id, dfs, mappings)\n",
        "print(\"Đã tải xong dữ liệu lịch sử!\")\n"
      ]
    },
    {
      "cell_type": "raw",
      "metadata": {
        "vscode": {
          "languageId": "raw"
        }
      },
      "source": [
        "### 3.1 Hiển thị bản đồ kiến thức\n",
        "\n",
        "Bản đồ kiến thức hiển thị mối quan hệ giữa các khái niệm và mức độ thành thạo của học sinh đối với từng khái niệm.\n",
        "- Màu đỏ: Mức độ thành thạo thấp\n",
        "- Màu cam: Mức độ thành thạo trung bình\n",
        "- Màu xanh: Mức độ thành thạo cao\n"
      ]
    },
    {
      "cell_type": "code",
      "execution_count": null,
      "metadata": {},
      "outputs": [],
      "source": [
        "# Hiển thị bản đồ kiến thức\n",
        "knowledge_map = dashboard.display_knowledge_map(student_id, save=True)\n",
        "plt.show()\n"
      ]
    },
    {
      "cell_type": "raw",
      "metadata": {
        "vscode": {
          "languageId": "raw"
        }
      },
      "source": [
        "### 3.2 Hiển thị heatmap mức độ thành thạo\n",
        "\n",
        "Heatmap hiển thị mức độ thành thạo các khái niệm dưới dạng bảng màu, giúp dễ dàng so sánh mức độ thành thạo giữa các khái niệm.\n"
      ]
    },
    {
      "cell_type": "code",
      "execution_count": null,
      "metadata": {},
      "outputs": [],
      "source": [
        "# Hiển thị heatmap mức độ thành thạo\n",
        "heatmap = dashboard.display_mastery_heatmap(student_id, save=True)\n",
        "plt.show()\n"
      ]
    },
    {
      "cell_type": "raw",
      "metadata": {
        "vscode": {
          "languageId": "raw"
        }
      },
      "source": [
        "## 4. Tạo kế hoạch ôn tập Active Recall\n",
        "\n",
        "Dựa trên bản đồ kiến thức, hệ thống sẽ tạo kế hoạch ôn tập tập trung vào các khái niệm yếu của học sinh, sử dụng lý thuyết Active Recall.\n"
      ]
    },
    {
      "cell_type": "code",
      "execution_count": null,
      "metadata": {},
      "outputs": [],
      "source": [
        "# Tạo kế hoạch ôn tập Active Recall\n",
        "print(\"Kế hoạch ôn tập Active Recall cho 7 ngày tới:\")\n",
        "dashboard.display_study_plan(student_id, plan_type=\"active_recall\", days=7)\n"
      ]
    },
    {
      "cell_type": "raw",
      "metadata": {
        "vscode": {
          "languageId": "raw"
        }
      },
      "source": [
        "### 4.2 Tạo kế hoạch ôn tập Spaced Repetition\n",
        "\n",
        "Hệ thống cũng hỗ trợ tạo kế hoạch ôn tập theo phương pháp Spaced Repetition, với khoảng thời gian ngày càng tăng giữa các lần ôn tập.\n"
      ]
    },
    {
      "cell_type": "code",
      "execution_count": null,
      "metadata": {},
      "outputs": [],
      "source": [
        "# Tạo kế hoạch ôn tập Spaced Repetition\n",
        "print(\"Kế hoạch ôn tập Spaced Repetition:\")\n",
        "dashboard.display_study_plan(student_id, plan_type=\"spaced_repetition\", days=30)\n"
      ]
    },
    {
      "cell_type": "raw",
      "metadata": {
        "vscode": {
          "languageId": "raw"
        }
      },
      "source": [
        "## 5. Dự đoán kết quả\n",
        "\n",
        "Hệ thống có thể dự đoán khả năng học sinh trả lời đúng một câu hỏi cụ thể, dựa trên trạng thái kiến thức hiện tại của học sinh.\n"
      ]
    },
    {
      "cell_type": "code",
      "execution_count": null,
      "metadata": {},
      "outputs": [],
      "source": [
        "# Chọn một câu hỏi để dự đoán\n",
        "question_id = question_ids[0]  # Câu hỏi đầu tiên\n",
        "\n",
        "# Dự đoán kết quả\n",
        "print(f\"Dự đoán kết quả cho học sinh {student_id} và câu hỏi {question_id}:\")\n",
        "prediction = dashboard.display_prediction(student_id, question_id, save=True)\n",
        "plt.show()\n"
      ]
    },
    {
      "cell_type": "raw",
      "metadata": {
        "vscode": {
          "languageId": "raw"
        }
      },
      "source": [
        "## 6. Mô phỏng quá trình học trong tương lai\n",
        "\n",
        "Hệ thống có thể mô phỏng quá trình học trong tương lai của học sinh với một chuỗi câu hỏi, và theo dõi sự thay đổi mức độ thành thạo theo thời gian.\n"
      ]
    },
    {
      "cell_type": "code",
      "execution_count": null,
      "metadata": {},
      "outputs": [],
      "source": [
        "# Chọn 5 câu hỏi tiếp theo để mô phỏng\n",
        "future_questions = question_ids[1:6]\n",
        "\n",
        "# Mô phỏng quá trình học\n",
        "print(f\"Mô phỏng quá trình học cho học sinh {student_id} với 5 câu hỏi:\")\n",
        "simulation = dashboard.simulate_learning_path(student_id, future_questions)\n",
        "plt.show()\n"
      ]
    },
    {
      "cell_type": "raw",
      "metadata": {
        "vscode": {
          "languageId": "raw"
        }
      },
      "source": [
        "## 7. Dashboard tương tác\n",
        "\n",
        "Để sử dụng dashboard tương tác, bạn có thể sử dụng hàm `create_interactive_session()` hoặc `dashboard.interactive_dashboard()` trong một Jupyter Notebook.\n"
      ]
    },
    {
      "cell_type": "code",
      "execution_count": null,
      "metadata": {},
      "outputs": [],
      "source": [
        "# Tạo dashboard tương tác\n",
        "try:\n",
        "    from IPython.display import display\n",
        "    print(\"Hiển thị dashboard tương tác:\")\n",
        "    display(dashboard.interactive_dashboard())\n",
        "except Exception as e:\n",
        "    print(f\"Không thể hiển thị dashboard tương tác: {e}\")\n",
        "    print(\"Đảm bảo rằng bạn đã cài đặt ipywidgets và đang chạy trong Jupyter Notebook.\")\n"
      ]
    }
  ],
  "metadata": {
    "kernelspec": {
      "display_name": ".venv",
      "language": "python",
      "name": "python3"
    },
    "language_info": {
      "name": "python",
      "version": "3.9.0"
    }
  },
  "nbformat": 4,
  "nbformat_minor": 2
}
